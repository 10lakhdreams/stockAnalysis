{
 "cells": [
  {
   "cell_type": "code",
   "execution_count": 1,
   "metadata": {},
   "outputs": [],
   "source": [
    "import requests\n",
    "from bs4 import BeautifulSoup"
   ]
  },
  {
   "cell_type": "code",
   "execution_count": 2,
   "metadata": {},
   "outputs": [
    {
     "name": "stdout",
     "output_type": "stream",
     "text": [
      "ASIANPAINT\n"
     ]
    }
   ],
   "source": [
    "stockcode = \"ASIANPAINT\"\n",
    "print(stockcode)"
   ]
  },
  {
   "cell_type": "code",
   "execution_count": 6,
   "metadata": {},
   "outputs": [
    {
     "name": "stdout",
     "output_type": "stream",
     "text": [
      "https://www.nseindia.com/live_market/dynaContent/live_watch/get_quote/GetQuote.jsp?symbol=ASIANPAINT\n"
     ]
    },
    {
     "data": {
      "text/plain": [
       "<Response [200]>"
      ]
     },
     "execution_count": 6,
     "metadata": {},
     "output_type": "execute_result"
    }
   ],
   "source": [
    "stock_url  = 'https://www.nseindia.com/live_market/dynaContent/live_watch/get_quote/GetQuote.jsp?symbol='+str(stockcode)\n",
    "print(stock_url)\n",
    "headers = {'user-agent':'Mozilla/5.0 (Windows NT 10.0; Win64; x64) AppleWebKit/537.36 (KHTML, like Gecko) Chrome/79.0.3945.117 Safari/537.36'}\n",
    "response = requests.get(stock_url, headers=headers)\n",
    "response"
   ]
  },
  {
   "cell_type": "code",
   "execution_count": 7,
   "metadata": {},
   "outputs": [],
   "source": [
    "soup = BeautifulSoup(response.text, 'html.parser')"
   ]
  },
  {
   "cell_type": "code",
   "execution_count": 8,
   "metadata": {},
   "outputs": [
    {
     "data": {
      "text/plain": [
       "list"
      ]
     },
     "execution_count": 8,
     "metadata": {},
     "output_type": "execute_result"
    }
   ],
   "source": [
    "data_array = soup.find(id='responseDiv').getText().strip().split(\":\")\n",
    "type (data_array)"
   ]
  },
  {
   "cell_type": "code",
   "execution_count": 9,
   "metadata": {},
   "outputs": [
    {
     "name": "stdout",
     "output_type": "stream",
     "text": [
      "['{\"tradedDate\"', '\"17JUL2020\",\"data\"', '[{\"pricebandupper\"', '\"1,862.50\",\"symbol\"', '\"ASIANPAINT\",\"applicableMargin\"', '\"17.32\",\"bcEndDate\"', '\"05-AUG-20\",\"totalSellQuantity\"', '\"3,615\",\"adhocMargin\"', '\"-\",\"companyName\"', '\"Asian Paints Limited\",\"marketType\"', '\"N\",\"exDate\"', '\"23-JUL-20\",\"bcStartDate\"', '\"25-JUL-20\",\"css_status_desc\"', '\"Listed\",\"dayHigh\"', '\"1,742.50\",\"basePrice\"', '\"1,693.20\",\"securityVar\"', '\"13.82\",\"pricebandlower\"', '\"1,523.90\",\"sellQuantity5\"', '\"-\",\"sellQuantity4\"', '\"-\",\"sellQuantity3\"', '\"-\",\"cm_adj_high_dt\"', '\"12-FEB-20\",\"sellQuantity2\"', '\"-\",\"dayLow\"', '\"1,689.75\",\"sellQuantity1\"', '\"3,615\",\"quantityTraded\"', '\"23,08,827\",\"pChange\"', '\"1.70\",\"totalTradedValue\"', '\"39,742.30\",\"deliveryToTradedQuantity\"', '\"33.70\",\"totalBuyQuantity\"', '\"-\",\"averagePrice\"', '\"1,721.32\",\"indexVar\"', '\"-\",\"cm_ffm\"', '\"77,446.88\",\"purpose\"', '\"ANNUAL GENERAL MEETING\\\\/DIVIDEND - RS  1.50 PER SHARE\",\"buyPrice2\"', '\"-\",\"secDate\"', '\"17-Jul-2020 00', '00', '00\",\"buyPrice1\"', '\"-\",\"high52\"', '\"1,916.70\",\"previousClose\"', '\"1,693.20\",\"ndEndDate\"', '\"-\",\"low52\"', '\"1,359.05\",\"buyPrice4\"', '\"-\",\"buyPrice3\"', '\"-\",\"recordDate\"', '\"-\",\"deliveryQuantity\"', '\"7,78,099\",\"buyPrice5\"', '\"-\",\"priceBand\"', '\"No Band\",\"extremeLossMargin\"', '\"3.50\",\"cm_adj_low_dt\"', '\"22-JUL-19\",\"varMargin\"', '\"13.82\",\"sellPrice1\"', '\"1,717.90\",\"sellPrice2\"', '\"-\",\"totalTradedVolume\"', '\"23,08,827\",\"sellPrice3\"', '\"-\",\"sellPrice4\"', '\"-\",\"sellPrice5\"', '\"-\",\"change\"', '\"28.80\",\"surv_indicator\"', '\"-\",\"ndStartDate\"', '\"-\",\"buyQuantity4\"', '\"-\",\"isExDateFlag\"', 'false,\"buyQuantity3\"', '\"-\",\"buyQuantity2\"', '\"-\",\"buyQuantity1\"', '\"-\",\"series\"', '\"EQ\",\"faceValue\"', '\"1.00\",\"buyQuantity5\"', '\"-\",\"closePrice\"', '\"1,717.90\",\"open\"', '\"1,695.00\",\"isinCode\"', '\"INE021A01026\",\"lastPrice\"', '\"1,722.00\"}],\"optLink\"', '\"\\\\/marketinfo\\\\/sym_map\\\\/symbolMapping.jsp?symbol=ASIANPAINT&instrument=-&date=-&segmentLink=17&symbolCount=2\",\"otherSeries\"', '[\"EQ\"],\"futLink\"', '\"\\\\/live_market\\\\/dynaContent\\\\/live_watch\\\\/get_quote\\\\/GetQuoteFO.jsp?underlying=ASIANPAINT&instrument=FUTSTK&expiry=30JUL2020&type=-&strike=-\",\"lastUpdateTime\"', '\"17-JUL-2020 16', '00', '00\"}']\n"
     ]
    }
   ],
   "source": [
    "print(data_array)"
   ]
  },
  {
   "cell_type": "code",
   "execution_count": 10,
   "metadata": {},
   "outputs": [
    {
     "name": "stdout",
     "output_type": "stream",
     "text": [
      "Index -> 72\n",
      "1,722.00\n"
     ]
    }
   ],
   "source": [
    "for item in data_array:\n",
    "    if 'lastPrice' in item:\n",
    "        index = data_array.index(item)+1\n",
    "        print(\"Index -> \"+ str(index))\n",
    "        latestPrice=data_array[index].split('\"')[1]\n",
    "        print(latestPrice)"
   ]
  }
 ],
 "metadata": {
  "kernelspec": {
   "display_name": "Python 3",
   "language": "python",
   "name": "python3"
  },
  "language_info": {
   "codemirror_mode": {
    "name": "ipython",
    "version": 3
   },
   "file_extension": ".py",
   "mimetype": "text/x-python",
   "name": "python",
   "nbconvert_exporter": "python",
   "pygments_lexer": "ipython3",
   "version": "3.7.6"
  }
 },
 "nbformat": 4,
 "nbformat_minor": 2
}
