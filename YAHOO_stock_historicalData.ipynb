{
 "cells": [
  {
   "cell_type": "code",
   "execution_count": 20,
   "metadata": {},
   "outputs": [],
   "source": [
    "import datetime\n",
    "import pandas as pd"
   ]
  },
  {
   "cell_type": "code",
   "execution_count": 23,
   "metadata": {},
   "outputs": [
    {
     "name": "stdout",
     "output_type": "stream",
     "text": [
      "https://query1.finance.yahoo.com/v7/finance/download/RELIANCE.NS?period1=1595183400&period2=1595615400&interval=1wk&events=history\n",
      "1595183400 1595615400\n"
     ]
    }
   ],
   "source": [
    "stockcode ='RELIANCE'\n",
    "\n",
    "ts1 = str(int(datetime.datetime(2020, 7, 20).timestamp())) \n",
    "ts2 = str(int(datetime.datetime(2020, 7, 25).timestamp()))\n",
    "\n",
    "#interval = '1d'\n",
    "interval = '1wk'\n",
    "#interval = '1mo'\n",
    "\n",
    "events = 'history'\n",
    "#events = 'div'\n",
    "#events = 'split'\n",
    "\n",
    "url = 'https://query1.finance.yahoo.com/v7/finance/download/'\\\n",
    "      + stockcode + '.NS?period1=' + ts1 + '&period2=' + ts2 + '&interval='\\\n",
    "      + interval + '&events=' + events\n",
    "\n",
    "print(url)\n",
    "print (ts1, ts2)"
   ]
  },
  {
   "cell_type": "code",
   "execution_count": 24,
   "metadata": {},
   "outputs": [
    {
     "data": {
      "text/html": [
       "<div>\n",
       "<style scoped>\n",
       "    .dataframe tbody tr th:only-of-type {\n",
       "        vertical-align: middle;\n",
       "    }\n",
       "\n",
       "    .dataframe tbody tr th {\n",
       "        vertical-align: top;\n",
       "    }\n",
       "\n",
       "    .dataframe thead th {\n",
       "        text-align: right;\n",
       "    }\n",
       "</style>\n",
       "<table border=\"1\" class=\"dataframe\">\n",
       "  <thead>\n",
       "    <tr style=\"text-align: right;\">\n",
       "      <th></th>\n",
       "      <th>Date</th>\n",
       "      <th>Open</th>\n",
       "      <th>High</th>\n",
       "      <th>Low</th>\n",
       "      <th>Close</th>\n",
       "      <th>Adj Close</th>\n",
       "      <th>Volume</th>\n",
       "    </tr>\n",
       "  </thead>\n",
       "  <tbody>\n",
       "    <tr>\n",
       "      <th>0</th>\n",
       "      <td>2020-07-20</td>\n",
       "      <td>1917.800049</td>\n",
       "      <td>2079.699951</td>\n",
       "      <td>1899.650024</td>\n",
       "      <td>2057.800049</td>\n",
       "      <td>2057.800049</td>\n",
       "      <td>90856174</td>\n",
       "    </tr>\n",
       "    <tr>\n",
       "      <th>1</th>\n",
       "      <td>2020-07-24</td>\n",
       "      <td>2058.000000</td>\n",
       "      <td>2163.000000</td>\n",
       "      <td>2057.800049</td>\n",
       "      <td>2146.149902</td>\n",
       "      <td>2146.149902</td>\n",
       "      <td>55648411</td>\n",
       "    </tr>\n",
       "  </tbody>\n",
       "</table>\n",
       "</div>"
      ],
      "text/plain": [
       "         Date         Open         High          Low        Close  \\\n",
       "0  2020-07-20  1917.800049  2079.699951  1899.650024  2057.800049   \n",
       "1  2020-07-24  2058.000000  2163.000000  2057.800049  2146.149902   \n",
       "\n",
       "     Adj Close    Volume  \n",
       "0  2057.800049  90856174  \n",
       "1  2146.149902  55648411  "
      ]
     },
     "execution_count": 24,
     "metadata": {},
     "output_type": "execute_result"
    }
   ],
   "source": [
    "stockdata = pd.read_csv(url)\n",
    "stockdata"
   ]
  },
  {
   "cell_type": "code",
   "execution_count": null,
   "metadata": {},
   "outputs": [],
   "source": []
  }
 ],
 "metadata": {
  "kernelspec": {
   "display_name": "Python 3",
   "language": "python",
   "name": "python3"
  },
  "language_info": {
   "codemirror_mode": {
    "name": "ipython",
    "version": 3
   },
   "file_extension": ".py",
   "mimetype": "text/x-python",
   "name": "python",
   "nbconvert_exporter": "python",
   "pygments_lexer": "ipython3",
   "version": "3.6.5"
  }
 },
 "nbformat": 4,
 "nbformat_minor": 2
}
